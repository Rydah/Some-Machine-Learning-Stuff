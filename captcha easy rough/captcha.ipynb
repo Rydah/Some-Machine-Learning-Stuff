{
 "cells": [
  {
   "cell_type": "code",
   "execution_count": 16,
   "metadata": {},
   "outputs": [
    {
     "ename": "ArtefactNotFound",
     "evalue": "No artefact exists at: c:\\Utility\\Programming\\Machine Learning Stuff\\captcha easy rough\\Datasets\\captcha_images_v2",
     "output_type": "error",
     "traceback": [
      "\u001b[1;31m---------------------------------------------------------------------------\u001b[0m",
      "\u001b[1;31mArtefactNotFound\u001b[0m                          Traceback (most recent call last)",
      "Cell \u001b[1;32mIn[16], line 7\u001b[0m\n\u001b[0;32m      4\u001b[0m dataset, vocab , max_len \u001b[38;5;241m=\u001b[39m [], \u001b[38;5;28mset\u001b[39m(), \u001b[38;5;241m0\u001b[39m\n\u001b[0;32m      6\u001b[0m extracted_folder \u001b[38;5;241m=\u001b[39m \u001b[38;5;124m'\u001b[39m\u001b[38;5;124mcaptcha_images_v2\u001b[39m\u001b[38;5;124m'\u001b[39m\n\u001b[1;32m----> 7\u001b[0m \u001b[38;5;28;01mfor\u001b[39;00m file \u001b[38;5;129;01min\u001b[39;00m \u001b[43mstow\u001b[49m\u001b[38;5;241;43m.\u001b[39;49m\u001b[43mls\u001b[49m\u001b[43m(\u001b[49m\u001b[43mstow\u001b[49m\u001b[38;5;241;43m.\u001b[39;49m\u001b[43mjoin\u001b[49m\u001b[43m(\u001b[49m\u001b[38;5;124;43m'\u001b[39;49m\u001b[38;5;124;43mDatasets\u001b[39;49m\u001b[38;5;124;43m'\u001b[39;49m\u001b[43m,\u001b[49m\u001b[43m \u001b[49m\u001b[43mextracted_folder\u001b[49m\u001b[43m)\u001b[49m\u001b[43m)\u001b[49m:\n\u001b[0;32m      8\u001b[0m     dataset\u001b[38;5;241m.\u001b[39mappend([stow\u001b[38;5;241m.\u001b[39mrelpath(file), file\u001b[38;5;241m.\u001b[39mname])\n\u001b[0;32m      9\u001b[0m     vocab\u001b[38;5;241m.\u001b[39mupdate(\u001b[38;5;28mlist\u001b[39m(file\u001b[38;5;241m.\u001b[39mname))\n",
      "File \u001b[1;32mc:\\Users\\dylan\\AppData\\Local\\Programs\\Python\\Python310\\lib\\site-packages\\stow\\manager\\manager.py:1700\u001b[0m, in \u001b[0;36mManager.ls\u001b[1;34m(self, art, recursive, ignore_missing, include_metadata, worker_config)\u001b[0m\n\u001b[0;32m   1681\u001b[0m \u001b[38;5;28;01mdef\u001b[39;00m \u001b[38;5;21mls\u001b[39m(\n\u001b[0;32m   1682\u001b[0m     \u001b[38;5;28mself\u001b[39m,\n\u001b[0;32m   1683\u001b[0m     art: Union[Directory, \u001b[38;5;28mstr\u001b[39m, \u001b[38;5;28;01mNone\u001b[39;00m] \u001b[38;5;241m=\u001b[39m \u001b[38;5;28;01mNone\u001b[39;00m,\n\u001b[1;32m   (...)\u001b[0m\n\u001b[0;32m   1688\u001b[0m     worker_config: Optional[WorkerPoolConfig] \u001b[38;5;241m=\u001b[39m \u001b[38;5;28;01mNone\u001b[39;00m,\n\u001b[0;32m   1689\u001b[0m     ) \u001b[38;5;241m-\u001b[39m\u001b[38;5;241m>\u001b[39m typing\u001b[38;5;241m.\u001b[39mSet[Union[File, Directory]]:\n\u001b[0;32m   1690\u001b[0m \u001b[38;5;250m    \u001b[39m\u001b[38;5;124;03m\"\"\" List contents of the directory path/artefact given.\u001b[39;00m\n\u001b[0;32m   1691\u001b[0m \n\u001b[0;32m   1692\u001b[0m \u001b[38;5;124;03m    Args:\u001b[39;00m\n\u001b[1;32m   (...)\u001b[0m\n\u001b[0;32m   1698\u001b[0m \u001b[38;5;124;03m        {Artefact}: The artefact objects which are within the directory\u001b[39;00m\n\u001b[0;32m   1699\u001b[0m \u001b[38;5;124;03m    \"\"\"\u001b[39;00m\n\u001b[1;32m-> 1700\u001b[0m     \u001b[38;5;28;01mreturn\u001b[39;00m \u001b[38;5;28;43mset\u001b[39;49m\u001b[43m(\u001b[49m\u001b[38;5;28;43mself\u001b[39;49m\u001b[38;5;241;43m.\u001b[39;49m\u001b[43miterls\u001b[49m\u001b[43m(\u001b[49m\u001b[43mart\u001b[49m\u001b[43m,\u001b[49m\u001b[43m \u001b[49m\u001b[43mrecursive\u001b[49m\u001b[43m,\u001b[49m\u001b[43m \u001b[49m\u001b[43mignore_missing\u001b[49m\u001b[38;5;241;43m=\u001b[39;49m\u001b[43mignore_missing\u001b[49m\u001b[43m,\u001b[49m\u001b[43m \u001b[49m\u001b[43minclude_metadata\u001b[49m\u001b[38;5;241;43m=\u001b[39;49m\u001b[43minclude_metadata\u001b[49m\u001b[43m,\u001b[49m\u001b[43m \u001b[49m\u001b[43mworker_config\u001b[49m\u001b[38;5;241;43m=\u001b[39;49m\u001b[43mworker_config\u001b[49m\u001b[43m)\u001b[49m\u001b[43m)\u001b[49m\n",
      "File \u001b[1;32mc:\\Users\\dylan\\AppData\\Local\\Programs\\Python\\Python310\\lib\\site-packages\\stow\\manager\\manager.py:1662\u001b[0m, in \u001b[0;36mManager.iterls\u001b[1;34m(self, artefact, recursive, ignore_missing, include_metadata, worker_config)\u001b[0m\n\u001b[0;32m   1660\u001b[0m \u001b[38;5;66;03m# Convert the incoming artefact reference - require that the object exist and that it is a directory\u001b[39;00m\n\u001b[0;32m   1661\u001b[0m \u001b[38;5;28;01mtry\u001b[39;00m:\n\u001b[1;32m-> 1662\u001b[0m     manager, artobj, artPath \u001b[38;5;241m=\u001b[39m \u001b[38;5;28;43mself\u001b[39;49m\u001b[38;5;241;43m.\u001b[39;49m\u001b[43m_splitArtefactForm\u001b[49m\u001b[43m(\u001b[49m\u001b[43martefact\u001b[49m\u001b[43m,\u001b[49m\u001b[43m \u001b[49m\u001b[43mexternal\u001b[49m\u001b[38;5;241;43m=\u001b[39;49m\u001b[38;5;28;43;01mFalse\u001b[39;49;00m\u001b[43m)\u001b[49m\n\u001b[0;32m   1663\u001b[0m     \u001b[38;5;28;01mif\u001b[39;00m \u001b[38;5;129;01mnot\u001b[39;00m \u001b[38;5;28misinstance\u001b[39m(artobj, Directory):\n\u001b[0;32m   1664\u001b[0m         \u001b[38;5;28;01mraise\u001b[39;00m \u001b[38;5;167;01mTypeError\u001b[39;00m(\u001b[38;5;124m\"\u001b[39m\u001b[38;5;124mCannot perform ls action on File artefact: \u001b[39m\u001b[38;5;132;01m{}\u001b[39;00m\u001b[38;5;124m\"\u001b[39m\u001b[38;5;241m.\u001b[39mformat(artobj))\n",
      "File \u001b[1;32mc:\\Users\\dylan\\AppData\\Local\\Programs\\Python\\Python310\\lib\\site-packages\\stow\\manager\\manager.py:330\u001b[0m, in \u001b[0;36mManager._splitArtefactForm\u001b[1;34m(self, artefact, load, require, external)\u001b[0m\n\u001b[0;32m    327\u001b[0m \u001b[38;5;28;01mif\u001b[39;00m load \u001b[38;5;129;01mor\u001b[39;00m require:\n\u001b[0;32m    329\u001b[0m     \u001b[38;5;28;01mtry\u001b[39;00m:\n\u001b[1;32m--> 330\u001b[0m         obj \u001b[38;5;241m=\u001b[39m \u001b[43mmanager\u001b[49m\u001b[43m[\u001b[49m\u001b[43mpath\u001b[49m\u001b[43m]\u001b[49m\n\u001b[0;32m    332\u001b[0m     \u001b[38;5;28;01mexcept\u001b[39;00m exceptions\u001b[38;5;241m.\u001b[39mArtefactNotFound:\n\u001b[0;32m    333\u001b[0m         \u001b[38;5;28;01mif\u001b[39;00m require:\n",
      "File \u001b[1;32mc:\\Users\\dylan\\AppData\\Local\\Programs\\Python\\Python310\\lib\\site-packages\\stow\\manager\\manager.py:220\u001b[0m, in \u001b[0;36mManager.__getitem__\u001b[1;34m(self, path)\u001b[0m\n\u001b[0;32m    218\u001b[0m artefact \u001b[38;5;241m=\u001b[39m \u001b[38;5;28mself\u001b[39m\u001b[38;5;241m.\u001b[39m_identifyPath(path)\n\u001b[0;32m    219\u001b[0m \u001b[38;5;28;01mif\u001b[39;00m artefact \u001b[38;5;129;01mis\u001b[39;00m \u001b[38;5;28;01mNone\u001b[39;00m:\n\u001b[1;32m--> 220\u001b[0m     \u001b[38;5;28;01mraise\u001b[39;00m exceptions\u001b[38;5;241m.\u001b[39mArtefactNotFound(\u001b[38;5;124mf\u001b[39m\u001b[38;5;124m\"\u001b[39m\u001b[38;5;124mNo artefact exists at: \u001b[39m\u001b[38;5;132;01m{\u001b[39;00mpath\u001b[38;5;132;01m}\u001b[39;00m\u001b[38;5;124m\"\u001b[39m)\n\u001b[0;32m    221\u001b[0m \u001b[38;5;28;01mreturn\u001b[39;00m artefact\n",
      "\u001b[1;31mArtefactNotFound\u001b[0m: No artefact exists at: c:\\Utility\\Programming\\Machine Learning Stuff\\captcha easy rough\\Datasets\\captcha_images_v2"
     ]
    }
   ],
   "source": [
    "import os\n",
    "import stow\n",
    "\n",
    "dataset, vocab , max_len = [], set(), 0\n",
    "\n",
    "extracted_folder = 'captcha_images_v2'\n",
    "for file in stow.ls(stow.join('Datasets', extracted_folder)):\n",
    "    dataset.append([stow.relpath(file), file.name])\n",
    "    vocab.update(list(file.name))\n",
    "    max_len = max(max_len, len(file.name))\n",
    "\n"
   ]
  }
 ],
 "metadata": {
  "kernelspec": {
   "display_name": "Python 3",
   "language": "python",
   "name": "python3"
  },
  "language_info": {
   "codemirror_mode": {
    "name": "ipython",
    "version": 3
   },
   "file_extension": ".py",
   "mimetype": "text/x-python",
   "name": "python",
   "nbconvert_exporter": "python",
   "pygments_lexer": "ipython3",
   "version": "3.10.8"
  }
 },
 "nbformat": 4,
 "nbformat_minor": 2
}
